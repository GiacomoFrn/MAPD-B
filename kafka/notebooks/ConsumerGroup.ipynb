{
 "cells": [
  {
   "cell_type": "markdown",
   "id": "7d12107b",
   "metadata": {},
   "source": [
    "# Kafka Consumer group"
   ]
  },
  {
   "cell_type": "code",
   "execution_count": 1,
   "id": "b0fb21de",
   "metadata": {},
   "outputs": [],
   "source": [
    "# set this variable with one of the following values\n",
    "# -> 'local'\n",
    "# -> 'docker_cluster'\n",
    "CLUSTER_TYPE ='docker_cluster'"
   ]
  },
  {
   "cell_type": "code",
   "execution_count": 2,
   "id": "471f760e",
   "metadata": {},
   "outputs": [],
   "source": [
    "KAFKA_BOOTSTRAP_SERVERS = ''\n",
    "\n",
    "if CLUSTER_TYPE == 'local':\n",
    "\n",
    "    KAFKA_BOOTSTRAP_SERVERS = 'localhost:9092'\n",
    "    \n",
    "elif CLUSTER_TYPE == 'docker_cluster':\n",
    "\n",
    "    KAFKA_BOOTSTRAP_SERVERS = 'kafka-broker:9092'"
   ]
  },
  {
   "cell_type": "code",
   "execution_count": 3,
   "id": "a3d28578",
   "metadata": {},
   "outputs": [
    {
     "name": "stdout",
     "output_type": "stream",
     "text": [
      "Requirement already satisfied: kafka-python in /opt/conda/lib/python3.9/site-packages (2.0.2)\n",
      "Requirement already satisfied: confluent-kafka in /opt/conda/lib/python3.9/site-packages (1.8.2)\n",
      "\u001b[33mWARNING: Running pip as the 'root' user can result in broken permissions and conflicting behaviour with the system package manager. It is recommended to use a virtual environment instead: https://pip.pypa.io/warnings/venv\u001b[0m\n"
     ]
    }
   ],
   "source": [
    "! pip install kafka-python confluent-kafka"
   ]
  },
  {
   "cell_type": "code",
   "execution_count": 4,
   "id": "5b3e602c",
   "metadata": {},
   "outputs": [],
   "source": [
    "from kafka import KafkaConsumer"
   ]
  },
  {
   "cell_type": "code",
   "execution_count": 5,
   "id": "874e6a4c",
   "metadata": {},
   "outputs": [],
   "source": [
    "# create one consumer_two to read from 1 partition\n",
    "# assign this consumer to a group\n",
    "consumer_two = KafkaConsumer(bootstrap_servers=[KAFKA_BOOTSTRAP_SERVERS],\n",
    "                             client_id='consumer_two',\n",
    "                             group_id='my_group',\n",
    "                             auto_offset_reset='earliest',\n",
    "                             consumer_timeout_ms=10000)"
   ]
  },
  {
   "cell_type": "code",
   "execution_count": 6,
   "id": "91d2a9f4",
   "metadata": {},
   "outputs": [],
   "source": [
    "from kafka import ConsumerRebalanceListener\n",
    "# subscribe this specific consumer to the partitioned topic\n",
    "consumer_two.subscribe('a_partitioned_topic',\n",
    "                       listener=ConsumerRebalanceListener())"
   ]
  },
  {
   "cell_type": "code",
   "execution_count": 7,
   "id": "f146d9e9",
   "metadata": {
    "scrolled": true
   },
   "outputs": [
    {
     "data": {
      "text/plain": [
       "set()"
      ]
     },
     "execution_count": 7,
     "metadata": {},
     "output_type": "execute_result"
    }
   ],
   "source": [
    "consumer_two.assignment()"
   ]
  },
  {
   "cell_type": "code",
   "execution_count": 8,
   "id": "f54b91a7",
   "metadata": {},
   "outputs": [
    {
     "name": "stdout",
     "output_type": "stream",
     "text": [
      "1:0: k=None v=b'{\"name\": \"Joe\", \"surname\": \"Smith\", \"amount\": \"654.11\", \"delta_t\": \"9.33\", \"flag\": 0}'\n",
      "1:1: k=None v=b'{\"name\": \"Joe\", \"surname\": \"Jones\", \"amount\": \"244.90\", \"delta_t\": \"7.22\", \"flag\": 0}'\n",
      "1:2: k=None v=b'{\"name\": \"Andy\", \"surname\": \"Smith\", \"amount\": \"354.93\", \"delta_t\": \"7.04\", \"flag\": 0}'\n",
      "1:3: k=None v=b'{\"name\": \"John\", \"surname\": \"Millers\", \"amount\": \"874.58\", \"delta_t\": \"6.32\", \"flag\": 0}'\n",
      "1:4: k=None v=b'{\"name\": \"Joe\", \"surname\": \"Jones\", \"amount\": \"620.05\", \"delta_t\": \"4.02\", \"flag\": 0}'\n",
      "1:5: k=None v=b'{\"name\": \"Joe\", \"surname\": \"Millers\", \"amount\": \"54.48\", \"delta_t\": \"9.99\", \"flag\": 0}'\n",
      "1:6: k=None v=b'{\"name\": \"Andy\", \"surname\": \"Smith\", \"amount\": \"34.26\", \"delta_t\": \"2.54\", \"flag\": 0}'\n",
      "0:0: k=None v=b'{\"name\": \"Joe\", \"surname\": \"Jones\", \"amount\": \"304.19\", \"delta_t\": \"8.55\", \"flag\": 0}'\n",
      "0:1: k=None v=b'{\"name\": \"Andy\", \"surname\": \"Millers\", \"amount\": \"434.78\", \"delta_t\": \"2.15\", \"flag\": 0}'\n",
      "0:2: k=None v=b'{\"name\": \"Joe\", \"surname\": \"Smith\", \"amount\": \"134.71\", \"delta_t\": \"6.89\", \"flag\": 0}'\n",
      "0:3: k=None v=b'{\"name\": \"Joe\", \"surname\": \"Millers\", \"amount\": \"902.71\", \"delta_t\": \"1.19\", \"flag\": 1}'\n",
      "0:4: k=None v=b'{\"name\": \"Alice\", \"surname\": \"Millers\", \"amount\": \"833.05\", \"delta_t\": \"2.85\", \"flag\": 0}'\n",
      "0:5: k=None v=b'{\"name\": \"Joe\", \"surname\": \"Jones\", \"amount\": \"635.61\", \"delta_t\": \"7.81\", \"flag\": 0}'\n",
      "0:6: k=None v=b'{\"name\": \"John\", \"surname\": \"Jones\", \"amount\": \"654.43\", \"delta_t\": \"6.08\", \"flag\": 0}'\n",
      "0:7: k=None v=b'{\"name\": \"Alice\", \"surname\": \"Smith\", \"amount\": \"917.92\", \"delta_t\": \"4.13\", \"flag\": 0}'\n",
      "0:8: k=None v=b'{\"name\": \"John\", \"surname\": \"Johnson\", \"amount\": \"786.98\", \"delta_t\": \"1.64\", \"flag\": 1}'\n",
      "0:9: k=None v=b'{\"name\": \"Andy\", \"surname\": \"Jones\", \"amount\": \"500.63\", \"delta_t\": \"5.62\", \"flag\": 0}'\n",
      "0:10: k=None v=b'{\"name\": \"Andy\", \"surname\": \"Johnson\", \"amount\": \"308.54\", \"delta_t\": \"7.71\", \"flag\": 0}'\n",
      "0:11: k=None v=b'{\"name\": \"Joe\", \"surname\": \"Millers\", \"amount\": \"417.58\", \"delta_t\": \"3.48\", \"flag\": 0}'\n",
      "0:12: k=None v=b'{\"name\": \"Joe\", \"surname\": \"Jones\", \"amount\": \"940.76\", \"delta_t\": \"6.88\", \"flag\": 0}'\n"
     ]
    }
   ],
   "source": [
    "# Use multiple consumers in parallel --> typically you would run each on a different thread / process / executor\n",
    "for message in consumer_two:\n",
    "    print (\"%d:%d: k=%s v=%s\" % (message.partition,\n",
    "                          message.offset,\n",
    "                          message.key,\n",
    "                          message.value))"
   ]
  },
  {
   "cell_type": "code",
   "execution_count": null,
   "id": "fea07e40",
   "metadata": {},
   "outputs": [],
   "source": []
  }
 ],
 "metadata": {
  "kernelspec": {
   "display_name": "Python 3 (ipykernel)",
   "language": "python",
   "name": "python3"
  },
  "language_info": {
   "codemirror_mode": {
    "name": "ipython",
    "version": 3
   },
   "file_extension": ".py",
   "mimetype": "text/x-python",
   "name": "python",
   "nbconvert_exporter": "python",
   "pygments_lexer": "ipython3",
   "version": "3.9.5"
  }
 },
 "nbformat": 4,
 "nbformat_minor": 5
}
